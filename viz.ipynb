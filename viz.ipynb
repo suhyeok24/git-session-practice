{
 "cells": [
  {
   "cell_type": "code",
   "execution_count": null,
   "metadata": {},
   "outputs": [
    {
     "ename": "",
     "evalue": "",
     "output_type": "error",
     "traceback": [
      "\u001b[1;31mJupyter를 시작할 수 없습니다. Jupyter를 찾는 중 오류: 셀을 실행하려면 jupyter 및 notebook 패키지가 필요합니다.\n",
      "\u001b[1;31mRun the following command to install 'jupyter 및 notebook' into the Python environment. \n",
      "\u001b[1;31mCommand: 'python -m pip install jupyter notebook -U\n",
      "\u001b[1;31mor\n",
      "\u001b[1;31mconda install jupyter notebook -U'\n",
      "\u001b[1;31m자세한 내용을 보려면 <a href='https://aka.ms/installJupyterForVSCode'>여기</a>를 클릭합니다."
     ]
    }
   ],
   "source": [
    "from mathtool import sum_two\n",
    "\n",
    "print(sum_two(1,2))\n",
    "    \n"
   ]
  },
  {
   "cell_type": "code",
   "execution_count": null,
   "metadata": {},
   "outputs": [],
   "source": []
  }
 ],
 "metadata": {
  "kernelspec": {
   "display_name": "Python 3",
   "language": "python",
   "name": "python3"
  },
  "language_info": {
   "name": "python",
   "version": "3.10.7"
  },
  "orig_nbformat": 4,
  "vscode": {
   "interpreter": {
    "hash": "610c699f0cd8c4f129acd9140687fff6866bed0eb8e82f249fc8848b827b628c"
   }
  }
 },
 "nbformat": 4,
 "nbformat_minor": 2
}
